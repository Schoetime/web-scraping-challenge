{
 "cells": [
  {
   "cell_type": "code",
   "execution_count": null,
   "metadata": {},
   "outputs": [],
   "source": [
    "import pandas as pd\n",
    "from bs4 import BeautifulSoup\n",
    "import os\n",
    "import requests\n",
    "\n",
    "from splinter import Browser\n",
    "import time"
   ]
  },
  {
   "cell_type": "code",
   "execution_count": null,
   "metadata": {},
   "outputs": [],
   "source": [
    "#url of page to be scraped\n",
    "url = 'https://mars.nasa.gov/news/'"
   ]
  },
  {
   "cell_type": "code",
   "execution_count": null,
   "metadata": {},
   "outputs": [],
   "source": [
    "#Retrieve page with the requests module\n",
    "response = requests.get(url)"
   ]
  },
  {
   "cell_type": "code",
   "execution_count": null,
   "metadata": {},
   "outputs": [],
   "source": [
    "#Create BeautifulSoup object; parse with 'html.parser'\n",
    "soup = BeautifulSoup(response.text, 'html.parser')"
   ]
  },
  {
   "cell_type": "code",
   "execution_count": null,
   "metadata": {},
   "outputs": [],
   "source": [
    " #Examine the results, then determine element that contains sought info\n",
    "print(soup.prettify())"
   ]
  },
  {
   "cell_type": "code",
   "execution_count": null,
   "metadata": {},
   "outputs": [],
   "source": [
    " #results are returned as an iterable list\n",
    "title_result = soup.find('div', class_=\"content_title\")\n",
    "news_para = soup.find('div', class_=\"rollover_description_inner\").text"
   ]
  },
  {
   "cell_type": "code",
   "execution_count": null,
   "metadata": {},
   "outputs": [],
   "source": [
    "title_result"
   ]
  },
  {
   "cell_type": "code",
   "execution_count": null,
   "metadata": {},
   "outputs": [],
   "source": [
    "news_para"
   ]
  },
  {
   "cell_type": "code",
   "execution_count": null,
   "metadata": {},
   "outputs": [],
   "source": [
    "\n",
    "try:\n",
    "    # Identify and return title of article\n",
    "    news_title = title_result.find('a').text\n",
    "\n",
    "\n",
    "    # Print results only if title is available\n",
    "    if (news_title):\n",
    "        print('-------------')\n",
    "        print(news_title)\n",
    "except AttributeError as e:\n",
    "    print('-------------')\n",
    "    print(e)"
   ]
  },
  {
   "cell_type": "code",
   "execution_count": null,
   "metadata": {},
   "outputs": [],
   "source": [
    "#save the text to variables\n",
    "print(news_title)\n",
    "print(news_para) "
   ]
  },
  {
   "cell_type": "code",
   "execution_count": null,
   "metadata": {},
   "outputs": [],
   "source": [
    "#Image Scraping\n",
    "#splinter setup\n",
    "executable_path = {'executable_path': '../chromedriver_win32/chromedriver.exe'}\n",
    "browser = Browser('chrome', **executable_path, headless=False)"
   ]
  },
  {
   "cell_type": "code",
   "execution_count": null,
   "metadata": {},
   "outputs": [],
   "source": [
    "#Use splinter to navigate the site and find the image url for the current Featured Mars Image and assign the url string to a variable called featured_image_url\n",
    "nasa_url = 'https://www.jpl.nasa.gov/spaceimages/?search=&category=Mars'\n",
    "browser.visit(nasa_url)"
   ]
  },
  {
   "cell_type": "code",
   "execution_count": null,
   "metadata": {},
   "outputs": [],
   "source": [
    "#Make sure to find the image url to the full size .jpg image.\n",
    "browser.links.find_by_partial_text('FULL').click()\n",
    "time.sleep(3)\n",
    "rendered_html= browser.html"
   ]
  },
  {
   "cell_type": "code",
   "execution_count": null,
   "metadata": {},
   "outputs": [],
   "source": [
    "#Create a Beautiful Soup object\n",
    "soup = BeautifulSoup(rendered_html, 'html.parser')"
   ]
  },
  {
   "cell_type": "code",
   "execution_count": null,
   "metadata": {},
   "outputs": [],
   "source": [
    "#Retrieve the URL of the full image\n",
    "full_image_url = soup.find_all('img', class_='fancybox-image')[0]['src']\n",
    "\n",
    "#Create the full URL\n",
    "featured_image_url = 'https://www.jpl.nasa.gov' + full_image_url\n",
    "featured_image_url"
   ]
  },
  {
   "cell_type": "code",
   "execution_count": null,
   "metadata": {},
   "outputs": [],
   "source": [
    "#Mars Facts Scraping\n",
    "\n",
    "#Visit the Mars Facts webpage and use Pandas to scrape the table containing facts about the planet\n",
    "#URL of page to be scraped\n",
    "facts_url = \"https://space-facts.com/mars/\"\n",
    "\n",
    "#Retrieve page with the requests module\n",
    "response = requests.get(facts_url)\n",
    "\n",
    "#Create a Beautiful Soup object\n",
    "soup = BeautifulSoup(response.text, 'html.parser')\n",
    "\n",
    "\n",
    "facts_table = soup.find(\"table\", attrs={\"class\": \"tablepress\"})\n",
    "facts_table_data = facts_table.tbody.find_all(\"tr\")\n",
    "\n",
    "facts_data = []\n",
    "\n",
    "#Put the all the fact data in a list\n",
    "for item in range(9): #tabel row range is easily made static based on the small size\n",
    "    for td in facts_table_data[item].find_all(\"td\"):\n",
    "        #Remove all the markup from the text\n",
    "        facts_data.append(td.text.strip())"
   ]
  },
  {
   "cell_type": "code",
   "execution_count": null,
   "metadata": {},
   "outputs": [],
   "source": [
    "facts_data"
   ]
  },
  {
   "cell_type": "code",
   "execution_count": null,
   "metadata": {},
   "outputs": [],
   "source": [
    "#Make a list of the fact items in the even indicies\n",
    "fact_item = facts_data[::2] \n",
    "\n",
    "#Make a list of the fact data in the odd indicies\n",
    "fact_data = facts_data[1::2]"
   ]
  },
  {
   "cell_type": "code",
   "execution_count": null,
   "metadata": {},
   "outputs": [],
   "source": [
    "facts_table = pd.DataFrame({'Description':fact_item,'Data':fact_data}).set_index('Description', drop=True)\n",
    "facts_table"
   ]
  },
  {
   "cell_type": "code",
   "execution_count": null,
   "metadata": {},
   "outputs": [],
   "source": [
    "#Use Pandas to convert the data to a HTML table string.\n",
    "pd.DataFrame.to_html(facts_table)"
   ]
  },
  {
   "cell_type": "code",
   "execution_count": null,
   "metadata": {},
   "outputs": [],
   "source": [
    "#Mars Hemispheres\n",
    "\n",
    "#Visit the USGS Astrogeology site to obtain high resolution images for each of Mar's hemispheres.\n",
    "#splinter setup\n",
    "executable_path = {'executable_path': '../chromedriver_win32/chromedriver.exe'}\n",
    "browser = Browser('chrome', **executable_path, headless=False)"
   ]
  },
  {
   "cell_type": "code",
   "execution_count": null,
   "metadata": {},
   "outputs": [],
   "source": [
    "#URL of the page being scraped\n",
    "image_url = \"https://astrogeology.usgs.gov/search/results?q=hemisphere+enhanced&k1=target&v1=Mars\"\n",
    "\n",
    "names = []\n",
    "urls = []\n",
    "\n",
    "#Cycle through hemisphere image list and collect the names and image links\n",
    "for item in range(4):\n",
    "    browser.visit(image_url)\n",
    "\n",
    "    #Wait for the page to load\n",
    "    time.sleep(6)\n",
    "    browser.links.find_by_partial_text('Hemisphere')[item].click()\n",
    "\n",
    "    # Create a Beautiful Soup object\n",
    "    soup = BeautifulSoup(browser.html, 'html.parser')\n",
    "    \n",
    "    #Get the name of the hemisphere\n",
    "    title = soup.find('h2', class_='title')\n",
    "    name = title.text.strip()\n",
    "    names.append(name)\n",
    "    \n",
    "    #Get the URL of the full size hemisphere image\n",
    "    url = 'https://astrogeology.usgs.gov'+ soup.find('img', class_='wide-image')['src']\n",
    "    urls.append(url)"
   ]
  },
  {
   "cell_type": "code",
   "execution_count": null,
   "metadata": {},
   "outputs": [],
   "source": [
    "#Make the name and URL dictionary using list comprehension\n",
    "hemisphere_image_urls = [ {'title': names[item], 'image_url': urls[item] } for item in range(len(urls)) ]\n",
    "hemisphere_image_urls"
   ]
  },
  {
   "cell_type": "code",
   "execution_count": null,
   "metadata": {},
   "outputs": [],
   "source": []
  }
 ],
 "metadata": {
  "kernelspec": {
   "display_name": "Python 3",
   "language": "python",
   "name": "python3"
  },
  "language_info": {
   "codemirror_mode": {
    "name": "ipython",
    "version": 3
   },
   "file_extension": ".py",
   "mimetype": "text/x-python",
   "name": "python",
   "nbconvert_exporter": "python",
   "pygments_lexer": "ipython3",
   "version": "3.7.6"
  }
 },
 "nbformat": 4,
 "nbformat_minor": 4
}
